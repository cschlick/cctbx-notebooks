{
 "cells": [
  {
   "cell_type": "code",
   "execution_count": 1,
   "metadata": {},
   "outputs": [],
   "source": [
    "from cctbx.array_family import flex # a quick test, if this import works, everything is probably set up correctly"
   ]
  },
  {
   "cell_type": "code",
   "execution_count": 24,
   "metadata": {},
   "outputs": [
    {
     "name": "stdout",
     "output_type": "stream",
     "text": [
      "\n",
      "Information about FULL UNIT CELL:\n",
      "unit cell grid: (30, 40, 32)\n",
      "unit cell parameters: (22.411, 28.923, 23.598, 90.0, 90.0, 90.0)\n",
      "space group number:   1\n",
      "\n",
      "Information about the PART OF MAP THAT IS PRESENT:\n",
      "map cell grid: (30, 40, 32)\n",
      "map cell parameters: (22.411, 28.922999999999995, 23.598, 90.0, 90.0, 90.0)\n",
      "map origin: (0, 0, 0)\n",
      "pixel size: (0.7470, 0.7231, 0.7374) \n",
      "Shift (grid units) to place origin at original position: (0, 0, 0)\n",
      "Wrapping (using unit_cell_translations to get map values) allowed: False\n"
     ]
    }
   ],
   "source": [
    "# http://cci2.lbl.gov:8080/docs/cctbx/getting_started/\n",
    "\n",
    "from iotbx.map_model_manager import map_model_manager      # load in the map_model_manager\n",
    "mmm=map_model_manager()          # get an initialized instance of the map_model_manager\n",
    "mmm.generate_map()               # get a model from a small library model and calculate a map for it\n",
    "mmm.write_map(\"map.mrc\")         # write out a map in ccp4/mrc format\n",
    "mmm.write_model(\"model.pdb\")     # write out a model in PDB format\n"
   ]
  },
  {
   "cell_type": "code",
   "execution_count": 25,
   "metadata": {},
   "outputs": [],
   "source": [
    "# data manager, http://cci2.lbl.gov:8080/docs/cctbx/doc_data_manager/\n",
    "\n",
    "from iotbx.data_manager import DataManager    # Load in the DataManager\n",
    "dm = DataManager()                            # Initialize the DataManager and call it dm\n",
    "dm.set_overwrite(True)       # tell the DataManager to overwrite files with the same name"
   ]
  },
  {
   "cell_type": "code",
   "execution_count": 26,
   "metadata": {},
   "outputs": [],
   "source": [
    "model_filename=\"model.pdb\"                         #   Name of model file\n",
    "dm.process_model_file(model_filename)              #   Read in data from model file\n",
    "model = dm.get_model(model_filename)               #   Deliver model object with model info"
   ]
  },
  {
   "cell_type": "code",
   "execution_count": 27,
   "metadata": {},
   "outputs": [],
   "source": [
    "# reading and writing map information\n",
    "map_filename=\"map.mrc\"                    #   Name of map file\n",
    "dm.process_real_map_file(map_filename)    #   Read in data from map file\n",
    "mm = dm.get_real_map(map_filename)        #   Deliver map_manager object with map info"
   ]
  },
  {
   "cell_type": "code",
   "execution_count": 28,
   "metadata": {},
   "outputs": [],
   "source": [
    "dm.write_real_map_file(mm,filename=\"output_map\") # write map"
   ]
  },
  {
   "cell_type": "code",
   "execution_count": null,
   "metadata": {},
   "outputs": [],
   "source": []
  }
 ],
 "metadata": {
  "kernelspec": {
   "display_name": "phenix",
   "language": "python",
   "name": "phenix"
  },
  "language_info": {
   "codemirror_mode": {
    "name": "ipython",
    "version": 2
   },
   "file_extension": ".py",
   "mimetype": "text/x-python",
   "name": "python",
   "nbconvert_exporter": "python",
   "pygments_lexer": "ipython2",
   "version": "2.7.15"
  }
 },
 "nbformat": 4,
 "nbformat_minor": 2
}
